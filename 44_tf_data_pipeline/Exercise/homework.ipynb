{
 "cells": [
  {
   "cell_type": "code",
   "execution_count": 1,
   "id": "34e32fe3",
   "metadata": {},
   "outputs": [],
   "source": [
    "import tensorflow as tf"
   ]
  },
  {
   "cell_type": "code",
   "execution_count": 4,
   "id": "97f67da6",
   "metadata": {},
   "outputs": [],
   "source": [
    "input_ds = tf.data.Dataset.list_files('./reviews/*/*', shuffle=False)"
   ]
  },
  {
   "cell_type": "code",
   "execution_count": 8,
   "id": "9227dd41",
   "metadata": {},
   "outputs": [
    {
     "name": "stdout",
     "output_type": "stream",
     "text": [
      "tf.Tensor(b'.\\\\reviews\\\\negative\\\\neg_1.txt', shape=(), dtype=string)\n",
      "tf.Tensor(b'.\\\\reviews\\\\negative\\\\neg_2.txt', shape=(), dtype=string)\n",
      "tf.Tensor(b'.\\\\reviews\\\\negative\\\\neg_3.txt', shape=(), dtype=string)\n",
      "tf.Tensor(b'.\\\\reviews\\\\positive\\\\pos_1.txt', shape=(), dtype=string)\n",
      "tf.Tensor(b'.\\\\reviews\\\\positive\\\\pos_2.txt', shape=(), dtype=string)\n",
      "tf.Tensor(b'.\\\\reviews\\\\positive\\\\pos_3.txt', shape=(), dtype=string)\n"
     ]
    }
   ],
   "source": [
    "for i in input_ds:\n",
    "    print(i)"
   ]
  },
  {
   "cell_type": "code",
   "execution_count": 27,
   "id": "8e950f16",
   "metadata": {},
   "outputs": [],
   "source": [
    "def get_label(file_path):\n",
    "    import os\n",
    "    label = tf.strings.split(file_path, os.sep)[-2]\n",
    "    return label"
   ]
  },
  {
   "cell_type": "code",
   "execution_count": 28,
   "id": "71548c2f",
   "metadata": {},
   "outputs": [
    {
     "data": {
      "text/plain": [
       "<tf.Tensor: shape=(), dtype=string, numpy=b'negative'>"
      ]
     },
     "execution_count": 28,
     "metadata": {},
     "output_type": "execute_result"
    }
   ],
   "source": [
    "get_label('\\\\reviews\\\\negative\\\\neg_1.txt')"
   ]
  },
  {
   "cell_type": "code",
   "execution_count": 29,
   "id": "46d91078",
   "metadata": {},
   "outputs": [],
   "source": [
    "def get_texts(file_path):\n",
    "    label = get_label(file_path)\n",
    "    text = tf.io.read_file(file_path)\n",
    "    return text, label"
   ]
  },
  {
   "cell_type": "code",
   "execution_count": 30,
   "id": "2c506cdc",
   "metadata": {},
   "outputs": [],
   "source": [
    "train_ds = input_ds.map(get_texts)"
   ]
  },
  {
   "cell_type": "code",
   "execution_count": 31,
   "id": "0665c5bf",
   "metadata": {},
   "outputs": [
    {
     "name": "stdout",
     "output_type": "stream",
     "text": [
      "(<tf.Tensor: shape=(), dtype=string, numpy=b\"Basically there's a family where a little boy (Jake) thinks there's a zombie in his closet & his parents are fighting all the time.<br /><br />This movie is slower than a soap opera... and suddenly, Jake decides to become Rambo and kill the zombie.<br /><br />OK, first of all when you're going to make a film you must Decide if its a thriller or a drama! As a drama the movie is watchable. Parents are divorcing & arguing like in real life. And then we have Jake with his closet which totally ruins all the film! I expected to see a BOOGEYMAN similar movie, and instead i watched a drama with some meaningless thriller spots.<br /><br />3 out of 10 just for the well playing parents & descent dialogs. As for the shots with Jake: just ignore them.\\r\\n\">, <tf.Tensor: shape=(), dtype=string, numpy=b'negative'>)\n"
     ]
    }
   ],
   "source": [
    "for i in train_ds.take(1):\n",
    "    print(i)"
   ]
  },
  {
   "cell_type": "code",
   "execution_count": 34,
   "id": "4de02a29",
   "metadata": {},
   "outputs": [
    {
     "data": {
      "text/plain": [
       "4"
      ]
     },
     "execution_count": 34,
     "metadata": {},
     "output_type": "execute_result"
    }
   ],
   "source": [
    "train_ds = train_ds.filter(lambda x, y: x!=\"\")\n",
    "len(list(train_ds))"
   ]
  },
  {
   "cell_type": "markdown",
   "id": "b9bf37e3",
   "metadata": {},
   "source": [
    "# Solution"
   ]
  },
  {
   "cell_type": "code",
   "execution_count": 37,
   "id": "854e5032",
   "metadata": {},
   "outputs": [],
   "source": [
    "train_ds = input_ds.map(get_texts).filter(lambda x,y: x!=\"\").shuffle(4)"
   ]
  },
  {
   "cell_type": "code",
   "execution_count": 46,
   "id": "799f0752",
   "metadata": {},
   "outputs": [
    {
     "name": "stdout",
     "output_type": "stream",
     "text": [
      "b'One of the' b'positive'\n",
      "b'This show ' b'negative'\n",
      "b'Basically ' b'negative'\n",
      "b'A wonderfu' b'positive'\n"
     ]
    }
   ],
   "source": [
    "for text, label in train_ds.as_numpy_iterator():\n",
    "    print(text[:10], label)"
   ]
  },
  {
   "cell_type": "code",
   "execution_count": null,
   "id": "751aaa3f",
   "metadata": {},
   "outputs": [],
   "source": []
  }
 ],
 "metadata": {
  "kernelspec": {
   "display_name": "Python 3",
   "language": "python",
   "name": "python3"
  },
  "language_info": {
   "codemirror_mode": {
    "name": "ipython",
    "version": 3
   },
   "file_extension": ".py",
   "mimetype": "text/x-python",
   "name": "python",
   "nbconvert_exporter": "python",
   "pygments_lexer": "ipython3",
   "version": "3.5.6"
  }
 },
 "nbformat": 4,
 "nbformat_minor": 5
}
